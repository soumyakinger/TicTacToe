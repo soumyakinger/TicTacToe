{
 "cells": [
  {
   "cell_type": "code",
   "execution_count": 1,
   "metadata": {},
   "outputs": [],
   "source": [
    "from IPython.display import clear_output\n"
   ]
  },
  {
   "cell_type": "code",
   "execution_count": 2,
   "metadata": {},
   "outputs": [],
   "source": [
    "def displayboard(game_board):\n",
    "    print(\"   |   |   \")\n",
    "    print(\" \"+game_board[6]+\" | \"+game_board[7]+\" | \"+game_board[8]+\" \")\n",
    "    print(\"   |   |   \")\n",
    "    print(\"-----------\")\n",
    "    print(\"   |   |   \")\n",
    "    print(\" \"+game_board[3]+\" | \"+game_board[4]+\" | \"+game_board[5]+\" \")\n",
    "    print(\"   |   |   \")\n",
    "    print(\"-----------\")\n",
    "    print(\"   |   |   \")\n",
    "    print(\" \"+game_board[0]+\" | \"+game_board[1]+\" | \"+game_board[2]+\" \")\n",
    "    print(\"   |   |   \")\n",
    "    "
   ]
  },
  {
   "cell_type": "code",
   "execution_count": 3,
   "metadata": {},
   "outputs": [
    {
     "name": "stdout",
     "output_type": "stream",
     "text": [
      "   |   |   \n",
      " g | h | i \n",
      "   |   |   \n",
      "-----------\n",
      "   |   |   \n",
      " d | e | f \n",
      "   |   |   \n",
      "-----------\n",
      "   |   |   \n",
      " a | b | c \n",
      "   |   |   \n"
     ]
    }
   ],
   "source": [
    "my_list = ['a','b','c','d','e','f','g','h','i']\n",
    "displayboard(my_list)"
   ]
  },
  {
   "cell_type": "code",
   "execution_count": 4,
   "metadata": {},
   "outputs": [],
   "source": [
    "def play_game():\n",
    "    player1 = \"\"\n",
    "    while (player1.upper !=  'X' or player1.upper != 'Y'):\n",
    "        player1 = input(\"Player1, select X or Y    \")\n",
    "        if player1.upper() == 'X':\n",
    "            player2 = 'Y'\n",
    "        elif player1.upper == 'Y':\n",
    "            player2 = 'X'\n",
    "        else:\n",
    "            print(\"Invalid Selection. Try Again!!\")\n",
    "    print(\"player1 : \"+ player1 + \" player2 : \" + player2)\n",
    "    "
   ]
  },
  {
   "cell_type": "code",
   "execution_count": null,
   "metadata": {},
   "outputs": [
    {
     "name": "stdout",
     "output_type": "stream",
     "text": [
      "Player1, select X or Y    a\n",
      "Invalid Selection. Try Again!!\n",
      "Player1, select X or Y    b\n",
      "Invalid Selection. Try Again!!\n",
      "Player1, select X or Y    l\n",
      "Invalid Selection. Try Again!!\n",
      "Player1, select X or Y    x\n",
      "Player1, select X or Y    y\n",
      "Invalid Selection. Try Again!!\n"
     ]
    }
   ],
   "source": [
    "play_game()\n"
   ]
  },
  {
   "cell_type": "code",
   "execution_count": null,
   "metadata": {},
   "outputs": [],
   "source": []
  }
 ],
 "metadata": {
  "kernelspec": {
   "display_name": "Python 3",
   "language": "python",
   "name": "python3"
  },
  "language_info": {
   "codemirror_mode": {
    "name": "ipython",
    "version": 3
   },
   "file_extension": ".py",
   "mimetype": "text/x-python",
   "name": "python",
   "nbconvert_exporter": "python",
   "pygments_lexer": "ipython3",
   "version": "3.7.4"
  }
 },
 "nbformat": 4,
 "nbformat_minor": 2
}
